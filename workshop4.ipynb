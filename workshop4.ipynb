{
 "cells": [
  {
   "cell_type": "markdown",
   "metadata": {},
   "source": [
    "# Group 5\n",
    "## Team members:\n",
    "- Jianting Liu(8950907)\n",
    "- David (8999846) \n",
    "- Marieth (9016702)\n"
   ]
  },
  {
   "cell_type": "markdown",
   "metadata": {},
   "source": [
    "### Use case\n",
    "The analysis examines the relationship between housing prices, income, and population in Canada over a 20-year period. By incorporating population data alongside existing housing prices and income metrics, we can better understand the demographic pressures on housing affordability."
   ]
  },
  {
   "cell_type": "markdown",
   "metadata": {},
   "source": [
    "## load data"
   ]
  },
  {
   "cell_type": "code",
   "execution_count": 1,
   "metadata": {},
   "outputs": [
    {
     "data": {
      "text/html": [
       "<div>\n",
       "<style scoped>\n",
       "    .dataframe tbody tr th:only-of-type {\n",
       "        vertical-align: middle;\n",
       "    }\n",
       "\n",
       "    .dataframe tbody tr th {\n",
       "        vertical-align: top;\n",
       "    }\n",
       "\n",
       "    .dataframe thead th {\n",
       "        text-align: right;\n",
       "    }\n",
       "</style>\n",
       "<table border=\"1\" class=\"dataframe\">\n",
       "  <thead>\n",
       "    <tr style=\"text-align: right;\">\n",
       "      <th></th>\n",
       "      <th>Date</th>\n",
       "      <th>Composite</th>\n",
       "      <th>One_storey</th>\n",
       "      <th>Two_storey</th>\n",
       "      <th>Townhouse</th>\n",
       "      <th>Apartment_unit</th>\n",
       "      <th>Median income</th>\n",
       "      <th>Population</th>\n",
       "    </tr>\n",
       "  </thead>\n",
       "  <tbody>\n",
       "    <tr>\n",
       "      <th>0</th>\n",
       "      <td>2005-01-01</td>\n",
       "      <td>239800</td>\n",
       "      <td>207700</td>\n",
       "      <td>302900</td>\n",
       "      <td>201700</td>\n",
       "      <td>172000</td>\n",
       "      <td>4487.500000</td>\n",
       "      <td>1.069167e+07</td>\n",
       "    </tr>\n",
       "    <tr>\n",
       "      <th>1</th>\n",
       "      <td>2005-02-01</td>\n",
       "      <td>240500</td>\n",
       "      <td>208400</td>\n",
       "      <td>303300</td>\n",
       "      <td>202300</td>\n",
       "      <td>173000</td>\n",
       "      <td>4487.500000</td>\n",
       "      <td>1.069167e+07</td>\n",
       "    </tr>\n",
       "    <tr>\n",
       "      <th>2</th>\n",
       "      <td>2005-03-01</td>\n",
       "      <td>241300</td>\n",
       "      <td>209200</td>\n",
       "      <td>304300</td>\n",
       "      <td>202900</td>\n",
       "      <td>173900</td>\n",
       "      <td>4487.500000</td>\n",
       "      <td>1.069167e+07</td>\n",
       "    </tr>\n",
       "    <tr>\n",
       "      <th>3</th>\n",
       "      <td>2005-04-01</td>\n",
       "      <td>242000</td>\n",
       "      <td>210100</td>\n",
       "      <td>304800</td>\n",
       "      <td>203300</td>\n",
       "      <td>174600</td>\n",
       "      <td>4487.500000</td>\n",
       "      <td>1.071352e+07</td>\n",
       "    </tr>\n",
       "    <tr>\n",
       "      <th>4</th>\n",
       "      <td>2005-05-01</td>\n",
       "      <td>242600</td>\n",
       "      <td>210600</td>\n",
       "      <td>305400</td>\n",
       "      <td>203700</td>\n",
       "      <td>175400</td>\n",
       "      <td>4487.500000</td>\n",
       "      <td>1.071352e+07</td>\n",
       "    </tr>\n",
       "    <tr>\n",
       "      <th>...</th>\n",
       "      <td>...</td>\n",
       "      <td>...</td>\n",
       "      <td>...</td>\n",
       "      <td>...</td>\n",
       "      <td>...</td>\n",
       "      <td>...</td>\n",
       "      <td>...</td>\n",
       "      <td>...</td>\n",
       "    </tr>\n",
       "    <tr>\n",
       "      <th>210</th>\n",
       "      <td>2022-07-01</td>\n",
       "      <td>765100</td>\n",
       "      <td>644100</td>\n",
       "      <td>979100</td>\n",
       "      <td>709900</td>\n",
       "      <td>551500</td>\n",
       "      <td>5066.666667</td>\n",
       "      <td>1.297864e+07</td>\n",
       "    </tr>\n",
       "    <tr>\n",
       "      <th>211</th>\n",
       "      <td>2022-08-01</td>\n",
       "      <td>749600</td>\n",
       "      <td>630200</td>\n",
       "      <td>957700</td>\n",
       "      <td>693800</td>\n",
       "      <td>544100</td>\n",
       "      <td>5066.666667</td>\n",
       "      <td>1.297864e+07</td>\n",
       "    </tr>\n",
       "    <tr>\n",
       "      <th>212</th>\n",
       "      <td>2022-09-01</td>\n",
       "      <td>739200</td>\n",
       "      <td>619400</td>\n",
       "      <td>947700</td>\n",
       "      <td>684900</td>\n",
       "      <td>537100</td>\n",
       "      <td>5066.666667</td>\n",
       "      <td>1.297864e+07</td>\n",
       "    </tr>\n",
       "    <tr>\n",
       "      <th>213</th>\n",
       "      <td>2022-10-01</td>\n",
       "      <td>731400</td>\n",
       "      <td>613300</td>\n",
       "      <td>937000</td>\n",
       "      <td>679200</td>\n",
       "      <td>532400</td>\n",
       "      <td>5066.666667</td>\n",
       "      <td>1.309317e+07</td>\n",
       "    </tr>\n",
       "    <tr>\n",
       "      <th>214</th>\n",
       "      <td>2022-11-01</td>\n",
       "      <td>725100</td>\n",
       "      <td>607900</td>\n",
       "      <td>928800</td>\n",
       "      <td>672800</td>\n",
       "      <td>530000</td>\n",
       "      <td>5066.666667</td>\n",
       "      <td>1.309317e+07</td>\n",
       "    </tr>\n",
       "  </tbody>\n",
       "</table>\n",
       "<p>215 rows × 8 columns</p>\n",
       "</div>"
      ],
      "text/plain": [
       "           Date  Composite  One_storey  Two_storey  Townhouse  Apartment_unit  \\\n",
       "0    2005-01-01     239800      207700      302900     201700          172000   \n",
       "1    2005-02-01     240500      208400      303300     202300          173000   \n",
       "2    2005-03-01     241300      209200      304300     202900          173900   \n",
       "3    2005-04-01     242000      210100      304800     203300          174600   \n",
       "4    2005-05-01     242600      210600      305400     203700          175400   \n",
       "..          ...        ...         ...         ...        ...             ...   \n",
       "210  2022-07-01     765100      644100      979100     709900          551500   \n",
       "211  2022-08-01     749600      630200      957700     693800          544100   \n",
       "212  2022-09-01     739200      619400      947700     684900          537100   \n",
       "213  2022-10-01     731400      613300      937000     679200          532400   \n",
       "214  2022-11-01     725100      607900      928800     672800          530000   \n",
       "\n",
       "     Median income    Population  \n",
       "0      4487.500000  1.069167e+07  \n",
       "1      4487.500000  1.069167e+07  \n",
       "2      4487.500000  1.069167e+07  \n",
       "3      4487.500000  1.071352e+07  \n",
       "4      4487.500000  1.071352e+07  \n",
       "..             ...           ...  \n",
       "210    5066.666667  1.297864e+07  \n",
       "211    5066.666667  1.297864e+07  \n",
       "212    5066.666667  1.297864e+07  \n",
       "213    5066.666667  1.309317e+07  \n",
       "214    5066.666667  1.309317e+07  \n",
       "\n",
       "[215 rows x 8 columns]"
      ]
     },
     "execution_count": 1,
     "metadata": {},
     "output_type": "execute_result"
    }
   ],
   "source": [
    "import pandas as pd\n",
    "\n",
    "data = pd.read_excel(\"./final_merged_data.xlsx\")\n",
    "data"
   ]
  },
  {
   "cell_type": "markdown",
   "metadata": {},
   "source": [
    "## Converting factor variables to numeric\n"
   ]
  },
  {
   "cell_type": "code",
   "execution_count": null,
   "metadata": {},
   "outputs": [],
   "source": []
  },
  {
   "cell_type": "markdown",
   "metadata": {},
   "source": [
    "## Converting calendar dates to Julian\n"
   ]
  },
  {
   "cell_type": "code",
   "execution_count": null,
   "metadata": {},
   "outputs": [],
   "source": []
  },
  {
   "cell_type": "markdown",
   "metadata": {},
   "source": [
    "## Converting categorical values to dummies\n",
    " "
   ]
  },
  {
   "cell_type": "code",
   "execution_count": null,
   "metadata": {},
   "outputs": [],
   "source": []
  },
  {
   "cell_type": "markdown",
   "metadata": {},
   "source": [
    "## Performing Box-Cox transformations\n"
   ]
  },
  {
   "cell_type": "code",
   "execution_count": null,
   "metadata": {},
   "outputs": [],
   "source": []
  },
  {
   "cell_type": "markdown",
   "metadata": {},
   "source": [
    "## Applying Tukey's Ladder\n"
   ]
  },
  {
   "cell_type": "code",
   "execution_count": null,
   "metadata": {},
   "outputs": [],
   "source": []
  },
  {
   "cell_type": "markdown",
   "metadata": {},
   "source": [
    "## Perform SLR and MLR methods and analyze the results"
   ]
  },
  {
   "cell_type": "markdown",
   "metadata": {},
   "source": []
  }
 ],
 "metadata": {
  "kernelspec": {
   "display_name": "Python 3",
   "language": "python",
   "name": "python3"
  },
  "language_info": {
   "codemirror_mode": {
    "name": "ipython",
    "version": 3
   },
   "file_extension": ".py",
   "mimetype": "text/x-python",
   "name": "python",
   "nbconvert_exporter": "python",
   "pygments_lexer": "ipython3",
   "version": "3.11.8"
  }
 },
 "nbformat": 4,
 "nbformat_minor": 2
}
