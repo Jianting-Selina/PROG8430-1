{
 "cells": [
  {
   "cell_type": "markdown",
   "metadata": {},
   "source": [
    "# Group 5\n",
    "## Team members:\n",
    "- Jianting Liu(8950907)\n",
    "- David (8999846) \n",
    "- Marieth (9016702)\n"
   ]
  },
  {
   "cell_type": "markdown",
   "metadata": {},
   "source": [
    "### Use case"
   ]
  },
  {
   "cell_type": "code",
   "execution_count": 1,
   "metadata": {},
   "outputs": [
    {
     "name": "stdout",
     "output_type": "stream",
     "text": [
      "Model Accuracy: 0.7799043062200957\n",
      "Median income: 0.0016\n",
      "Population: -0.0000\n",
      "Mortgage Rate: -0.0000\n",
      "Interest Rate: 0.0000\n"
     ]
    }
   ],
   "source": [
    "import pandas as pd\n",
    "import numpy as np\n",
    "from sklearn.linear_model import LogisticRegression\n",
    "from sklearn.model_selection import train_test_split\n",
    "\n",
    "# \n",
    "df = pd.read_csv(\"melted_data_1120.csv\")\n",
    "df['price_change'] = df['price'].diff()\n",
    "df['price_increased'] = (df['price_change'] > 0).astype(int)\n",
    "\n",
    "# \n",
    "features = ['Median income', 'Population', 'Mortgage Rate', 'Interest Rate']\n",
    "X = df[features]\n",
    "y = df['price_increased']\n",
    "\n",
    "# \n",
    "X_train, X_test, y_train, y_test = train_test_split(X, y, test_size=0.2, random_state=42)\n",
    "\n",
    "# \n",
    "model = LogisticRegression()\n",
    "model.fit(X_train, y_train)\n",
    "\n",
    "# \n",
    "print(\"Model Accuracy:\", model.score(X_test, y_test))\n",
    "\n",
    "# \n",
    "for feature, coef in zip(features, model.coef_[0]):\n",
    "    print(f\"{feature}: {coef:.4f}\")"
   ]
  },
  {
   "cell_type": "code",
   "execution_count": 3,
   "metadata": {},
   "outputs": [
    {
     "name": "stdout",
     "output_type": "stream",
     "text": [
      "           Date   price  price_movement\n",
      "0    2005-01-01  207700               0\n",
      "1    2005-02-01  208400               1\n",
      "2    2005-03-01  209200               1\n",
      "3    2005-04-01  210100               1\n",
      "4    2005-05-01  210600               1\n",
      "..          ...     ...             ...\n",
      "195  2021-04-01  568400               1\n",
      "196  2021-05-01  578300               1\n",
      "197  2021-06-01  587700               1\n",
      "198  2021-07-01  593600               1\n",
      "199  2021-08-01  603300               1\n",
      "\n",
      "[200 rows x 3 columns]\n",
      "\n",
      "Percentage of price increases: 77.22%\n"
     ]
    }
   ],
   "source": [
    "# \n",
    "df['price_movement'] = 0  # \n",
    "df['price_movement'] = np.where(df['price'].diff() > 0, 1, 0)  # up 1\n",
    "\n",
    "# \n",
    "print(df[['Date', 'price', 'price_movement']].head(10))\n",
    "\n",
    "# ratio\n",
    "up_ratio = df['price_movement'].mean()\n",
    "print(f\"\\nPercentage of price increases: {up_ratio*100:.2f}%\")"
   ]
  },
  {
   "cell_type": "code",
   "execution_count": null,
   "metadata": {},
   "outputs": [],
   "source": []
  }
 ],
 "metadata": {
  "kernelspec": {
   "display_name": "Python 3",
   "language": "python",
   "name": "python3"
  },
  "language_info": {
   "codemirror_mode": {
    "name": "ipython",
    "version": 3
   },
   "file_extension": ".py",
   "mimetype": "text/x-python",
   "name": "python",
   "nbconvert_exporter": "python",
   "pygments_lexer": "ipython3",
   "version": "3.11.8"
  }
 },
 "nbformat": 4,
 "nbformat_minor": 2
}
