{
 "cells": [
  {
   "cell_type": "code",
   "execution_count": null,
   "metadata": {},
   "outputs": [],
   "source": []
  },
  {
   "cell_type": "markdown",
   "metadata": {},
   "source": [
    "Jianting Liu(8950907)"
   ]
  },
  {
   "cell_type": "markdown",
   "metadata": {},
   "source": [
    "## Challenge 3 summary\n",
    "The data illustrates how the Canadian housing market has evolved over the past two decades, with significant growth in prices across all property types, driven by various economic factors. The data uses a clear comparison between different housing categories to highlight trends in both composite and specific property types, showing that larger homes (like two-storey single-family homes) experienced more extreme price fluctuations, especially during the pandemic era.\n",
    "- Variables: Each column in the table is a variable.\n",
    "\n",
    "Date is a time variable.\n",
    "Composite, One_storey, Two_storey, Townhouse, and Apartment_unit are price variables.\n",
    "- Features: Depending on the analysis, all variables could be used as features. In a predictive model, Date and the various price columns can serve as input features, with the goal of predicting future house prices (target variable).\n"
   ]
  },
  {
   "cell_type": "code",
   "execution_count": 1,
   "metadata": {},
   "outputs": [],
   "source": [
    "import numpy as np\n",
    "import pandas as pd\n",
    "import matplotlib.pyplot as plt\n",
    "\n",
    "# Upload an Excel file\n",
    "df = pd.read_excel('News_release_chart_data_August_2024.xlsx')\n",
    "\n",
    "# Show original data\n",
    "#print(df)\n",
    "\n",
    "# Apply some basic styling\n",
    "styled_df = df.style\\\n",
    "    .set_table_styles(\n",
    "        [{'selector': 'thead th',\n",
    "          'props': [('background-color', '#4CAF50'),  # Green header background\n",
    "                    ('color', 'white'),  # White text color in headers\n",
    "                    ('font-weight', 'bold'),  # Bold font in headers\n",
    "                    ('text-align', 'center')]}]  # Center-align headers\n",
    "    )\n",
    "#.highlight_max(color='green').highlight_min(color='yellow').set_properties(**{'text-align': 'center'}).format(precision=2)  \n",
    "\n",
    "# Display the styled DataFrame in Jupyter\n",
    "#styled_df\n"
   ]
  },
  {
   "cell_type": "markdown",
   "metadata": {},
   "source": [
    "# Function-based:"
   ]
  },
  {
   "cell_type": "code",
   "execution_count": 19,
   "metadata": {},
   "outputs": [],
   "source": [
    "import week2presentation\n",
    "\n",
    "df = week2presentation.main()\n",
    "#df\n"
   ]
  },
  {
   "cell_type": "markdown",
   "metadata": {},
   "source": [
    "## Class-based:"
   ]
  },
  {
   "cell_type": "code",
   "execution_count": 20,
   "metadata": {},
   "outputs": [],
   "source": [
    "import week2presentationClass\n",
    "\n",
    "\n",
    "df = week2presentationClass.main()\n",
    "#df\n"
   ]
  },
  {
   "cell_type": "code",
   "execution_count": null,
   "metadata": {},
   "outputs": [],
   "source": []
  }
 ],
 "metadata": {
  "kernelspec": {
   "display_name": "Python 3",
   "language": "python",
   "name": "python3"
  },
  "language_info": {
   "codemirror_mode": {
    "name": "ipython",
    "version": 3
   },
   "file_extension": ".py",
   "mimetype": "text/x-python",
   "name": "python",
   "nbconvert_exporter": "python",
   "pygments_lexer": "ipython3",
   "version": "3.12.5"
  }
 },
 "nbformat": 4,
 "nbformat_minor": 2
}
