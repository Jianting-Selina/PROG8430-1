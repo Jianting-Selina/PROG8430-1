{
 "cells": [
  {
   "cell_type": "markdown",
   "metadata": {},
   "source": [
    "# Group 5\n",
    "## Team members:\n",
    "- Jianting Liu(8950907)\n",
    "- David (8999846) \n",
    "- Marieth (9016702)\n"
   ]
  },
  {
   "cell_type": "markdown",
   "metadata": {},
   "source": [
    "## Installation:\n",
    "\n",
    "### install Python 3 \n",
    "\n",
    "To install Python 3 and the package installer pip open your terminal and run:\n",
    "\n",
    "on a macOS\n",
    "\n",
    "brew install python\n",
    "\n",
    "####  Verify installation:\n",
    "\n",
    "python3 --version\n",
    "pip3 --version\n",
    "\n",
    "### Install Jupyter Notebook\n",
    "\n",
    "python3 -m pip install notebook\n",
    "\n",
    "#### Start Jupyter Notebook:\n",
    "\n",
    "jupyter notebook\n",
    "\n",
    "### Install Essential Libraries\n",
    "\n",
    "pip install numpy pandas matplotlib\n",
    "\n",
    "#### NumPy: \n",
    "    Provides a powerful N-dimensional array object, along with tools for working with these arrays.\n",
    "#### Pandas: \n",
    "    Offers high-performance, easy-to-use data structures and data analysis tools.\n",
    "#### Matplotlib: \n",
    "    Visualizes the results obtained with NumPy and Pandas.\n",
    "\n",
    "### Install Library for excel\n",
    "\n",
    "    python3 -m pip install openpyxl\n",
    "\n",
    "    "
   ]
  },
  {
   "cell_type": "code",
   "execution_count": 1,
   "metadata": {},
   "outputs": [
    {
     "name": "stdout",
     "output_type": "stream",
     "text": [
      "       Date  Canada\n",
      "0  2019-Q1   441700\n",
      "1  2019-Q2   483308\n",
      "2  2019-Q3   516852\n",
      "3  2019-Q4   521692\n",
      "4  2020-Q1   479760\n",
      "              Canada\n",
      "count      23.000000\n",
      "mean   522176.695652\n",
      "std    110157.745396\n",
      "min    339256.000000\n",
      "25%    449576.000000\n",
      "50%    479760.000000\n",
      "75%    628300.000000\n",
      "max    738560.000000\n"
     ]
    }
   ],
   "source": [
    "import numpy as np\n",
    "import pandas as pd\n",
    "import matplotlib.pyplot as plt\n",
    "\n",
    "# Upload an Excel file\n",
    "df = pd.read_excel('News_release_chart_data_August_2024.xlsx')\n",
    "\n",
    "# Show data\n",
    "print(df)\n",
    "\n",
    "# exploratory analysis\n",
    "print(df.describe())\n",
    "\n"
   ]
  },
  {
   "cell_type": "markdown",
   "metadata": {},
   "source": []
  },
  {
   "cell_type": "code",
   "execution_count": null,
   "metadata": {},
   "outputs": [],
   "source": []
  }
 ],
 "metadata": {
  "kernelspec": {
   "display_name": "Python 3",
   "language": "python",
   "name": "python3"
  },
  "language_info": {
   "codemirror_mode": {
    "name": "ipython",
    "version": 3
   },
   "file_extension": ".py",
   "mimetype": "text/x-python",
   "name": "python",
   "nbconvert_exporter": "python",
   "pygments_lexer": "ipython3",
   "version": "3.12.6"
  }
 },
 "nbformat": 4,
 "nbformat_minor": 2
}
