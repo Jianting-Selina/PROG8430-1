{
 "cells": [
  {
   "cell_type": "markdown",
   "metadata": {},
   "source": [
    "# Group 5\n",
    "## Team members:\n",
    "- Jianting Liu(8950907)\n",
    "- David (8999846) \n",
    "- Marieth (9016702)\n"
   ]
  },
  {
   "cell_type": "markdown",
   "metadata": {},
   "source": [
    "## Installation:\n",
    "\n",
    "### install Python 3 \n",
    "\n",
    "To install Python 3 and the package installer pip open your terminal and run:\n",
    "\n",
    "on a macOS\n",
    "\n",
    "brew install python\n",
    "\n",
    "####  Verify installation:\n",
    "\n",
    "python3 --version\n",
    "pip3 --version\n",
    "\n",
    "### Install Jupyter Notebook\n",
    "\n",
    "python3 -m pip install notebook\n",
    "\n",
    "#### Start Jupyter Notebook:\n",
    "\n",
    "jupyter notebook\n",
    "\n",
    "### Install Essential Libraries\n",
    "\n",
    "pip install numpy pandas matplotlib\n",
    "\n",
    "#### NumPy: \n",
    "    Provides a powerful N-dimensional array object, along with tools for working with these arrays.\n",
    "#### Pandas: \n",
    "    Offers high-performance, easy-to-use data structures and data analysis tools.\n",
    "#### Matplotlib: \n",
    "    Visualizes the results obtained with NumPy and Pandas.\n",
    "\n",
    "### Install Library for excel\n",
    "\n",
    "    python3 -m pip install openpyxl\n",
    "\n",
    "    "
   ]
  },
  {
   "cell_type": "markdown",
   "metadata": {},
   "source": [
    "## Data Cleansing\n",
    "- **Dates**: Ensure all dates are in the correct YYYY-MM-DD format and that they are logical (no future dates, no obviously incorrect years).\n",
    "- **Numbers**: Check for negative numbers or zeros in places where they don't make sense (like for house prices or sales volumes).\n",
    "- **Headers**: Rename headers for clarity and consistency\n",
    "- **Remove Unnecessary Rows/Columns/sheet**: If there are rows or columns that are empty or not needed for the analysis, they should be removed.\n",
    "- **Check for Typos**: Look for any typos in the data or headers\n",
    "\n",
    "After cleansing, the data should be in a state where it's reliable and ready for analysis"
   ]
  },
  {
   "cell_type": "markdown",
   "metadata": {},
   "source": [
    "## Poorly question\n",
    "- Are houses expensive in Canada？\n",
    "  This question is too broad and doesn’t consider the various factors that influence housing prices in different regions of Canada\n",
    "## Good question\n",
    "- What is the trend of housing prices in Canada in recent 10 years？\n",
    "## Costs associated?\n",
    "- No, because the data is free. The data is obtained of National Statistics of this website https://stats.crea.ca/en-CA/ \n",
    "\n",
    "## ESSAY\n",
    "The Canadian housing market is driven by supply and demand, with higher prices in areas where housing is scarce and demand is high. Location, economic conditions, and government policies also influence housing costs. Prices have been steadily rising in recent decades, as illustrated by MLS HPI benchmark prices for various housing types. This upward trend suggests continued growth in the housing market. The data used for this analysis was freely available, requiring no additional costs.\n"
   ]
  },
  {
   "cell_type": "code",
   "execution_count": 1,
   "metadata": {},
   "outputs": [
    {
     "name": "stdout",
     "output_type": "stream",
     "text": [
      "          Date  Composite  One_storey  Two_storey  Townhouse  Apartment_unit  \\\n",
      "0   2005-01-01     239800      207700      302900     201700          172000   \n",
      "1   2005-02-01     240500      208400      303300     202300          173000   \n",
      "2   2005-03-01     241300      209200      304300     202900          173900   \n",
      "3   2005-04-01     242000      210100      304800     203300          174600   \n",
      "4   2005-05-01     242600      210600      305400     203700          175400   \n",
      "..         ...        ...         ...         ...        ...             ...   \n",
      "230 2024-03-01     718200      612900      928700     663600          525200   \n",
      "231 2024-04-01     718100      613900      929600     661800          523200   \n",
      "232 2024-05-01     716700      613100      928300     661100          521800   \n",
      "233 2024-06-01     717600      615700      929400     661000          521200   \n",
      "234 2024-07-01     718700      616200      931100     660800          521900   \n",
      "\n",
      "     Unnamed: 6  Seasonally adjusted  \n",
      "0           NaN                  NaN  \n",
      "1           NaN                  NaN  \n",
      "2           NaN                  NaN  \n",
      "3           NaN                  NaN  \n",
      "4           NaN                  NaN  \n",
      "..          ...                  ...  \n",
      "230         NaN                  NaN  \n",
      "231         NaN                  NaN  \n",
      "232         NaN                  NaN  \n",
      "233         NaN                  NaN  \n",
      "234         NaN                  NaN  \n",
      "\n",
      "[235 rows x 8 columns]\n"
     ]
    }
   ],
   "source": [
    "import numpy as np\n",
    "import pandas as pd\n",
    "import matplotlib.pyplot as plt\n",
    "\n",
    "# Upload an Excel file\n",
    "df = pd.read_excel('News_release_chart_data_August_2024.xlsx')\n",
    "\n",
    "\n",
    "# Show data\n",
    "print(df)\n",
    "\n",
    "# exploratory analysis\n",
    "#print(df.describe())\n",
    "\n",
    "#plt.hist(df[\"Canada\"])\n",
    "#plt.show()\n",
    "\n"
   ]
  },
  {
   "cell_type": "markdown",
   "metadata": {},
   "source": []
  },
  {
   "cell_type": "code",
   "execution_count": null,
   "metadata": {},
   "outputs": [],
   "source": []
  }
 ],
 "metadata": {
  "kernelspec": {
   "display_name": "Python 3",
   "language": "python",
   "name": "python3"
  },
  "language_info": {
   "codemirror_mode": {
    "name": "ipython",
    "version": 3
   },
   "file_extension": ".py",
   "mimetype": "text/x-python",
   "name": "python",
   "nbconvert_exporter": "python",
   "pygments_lexer": "ipython3",
   "version": "3.12.6"
  }
 },
 "nbformat": 4,
 "nbformat_minor": 2
}
