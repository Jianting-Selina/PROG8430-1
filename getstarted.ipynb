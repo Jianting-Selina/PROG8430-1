{
 "cells": [
  {
   "cell_type": "markdown",
   "metadata": {},
   "source": [
    "# Group 5\n",
    "## Team members:\n",
    "- Jianting Liu(8950907)\n",
    "- David (8999846) \n",
    "- Marieth (9016702)\n"
   ]
  },
  {
   "cell_type": "code",
   "execution_count": null,
   "metadata": {},
   "outputs": [],
   "source": []
  }
 ],
 "metadata": {
  "language_info": {
   "name": "python"
  }
 },
 "nbformat": 4,
 "nbformat_minor": 2
}
