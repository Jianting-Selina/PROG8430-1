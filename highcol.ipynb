{
 "cells": [
  {
   "cell_type": "code",
   "execution_count": 9,
   "metadata": {},
   "outputs": [
    {
     "name": "stdout",
     "output_type": "stream",
     "text": [
      "         Date  Composite  One_storey  Two_storey  Townhouse  Apartment_unit  \\\n",
      "0  2005-01-01     239800      207700      302900     201700          172000   \n",
      "1  2005-02-01     240500      208400      303300     202300          173000   \n",
      "2  2005-03-01     241300      209200      304300     202900          173900   \n",
      "3  2005-04-01     242000      210100      304800     203300          174600   \n",
      "4  2005-05-01     242600      210600      305400     203700          175400   \n",
      "\n",
      "   Median income  \n",
      "0         4487.5  \n",
      "1         4487.5  \n",
      "2         4487.5  \n",
      "3         4487.5  \n",
      "4         4487.5  \n",
      "\n",
      "median income and apartment_unit 0.841304610669445\n"
     ]
    }
   ],
   "source": [
    "import pandas as pd\n",
    "import numpy as np\n",
    "import matplotlib.pyplot as plt\n",
    "import seaborn as sns\n",
    "# Calculate the correlation coefficient\n",
    "data = pd.read_csv(\"./mergeddata.csv\")\n",
    "print(data.head())\n",
    "correlation = data['Apartment_unit'].corr(data['Median income'])\n",
    "print(\"\\nmedian income and apartment_unit\",correlation)\n",
    "\n"
   ]
  },
  {
   "cell_type": "code",
   "execution_count": null,
   "metadata": {},
   "outputs": [],
   "source": []
  }
 ],
 "metadata": {
  "kernelspec": {
   "display_name": "Python 3",
   "language": "python",
   "name": "python3"
  },
  "language_info": {
   "codemirror_mode": {
    "name": "ipython",
    "version": 3
   },
   "file_extension": ".py",
   "mimetype": "text/x-python",
   "name": "python",
   "nbconvert_exporter": "python",
   "pygments_lexer": "ipython3",
   "version": "3.11.8"
  }
 },
 "nbformat": 4,
 "nbformat_minor": 2
}
