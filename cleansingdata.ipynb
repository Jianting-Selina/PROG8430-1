{
 "cells": [
  {
   "cell_type": "code",
   "execution_count": null,
   "metadata": {},
   "outputs": [],
   "source": []
  },
  {
   "cell_type": "markdown",
   "metadata": {},
   "source": [
    "## Data Cleansing\n",
    "- **Dates**: Ensure all dates are in the correct YYYY-MM-DD format and that they are logical (no future dates, no obviously incorrect years).\n",
    "- **Numbers**: Check for negative numbers or zeros in places where they don't make sense (like for house prices or sales volumes).\n",
    "- **Headers**: Rename headers for clarity and consistency\n",
    "- **Remove Unnecessary Rows/Columns/sheet**: If there are rows or columns that are empty or not needed for the analysis, they should be removed.\n",
    "- **Check for Typos**: Look for any typos in the data or headers\n",
    "\n",
    "After cleansing, the data should be in a state where it's reliable and ready for analysis"
   ]
  },
  {
   "cell_type": "markdown",
   "metadata": {},
   "source": []
  }
 ],
 "metadata": {
  "language_info": {
   "name": "python"
  }
 },
 "nbformat": 4,
 "nbformat_minor": 2
}
